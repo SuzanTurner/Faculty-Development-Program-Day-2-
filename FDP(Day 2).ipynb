{
  "nbformat": 4,
  "nbformat_minor": 0,
  "metadata": {
    "colab": {
      "provenance": [],
      "authorship_tag": "ABX9TyNuv7eWS+LKILd2XUwvJWzw",
      "include_colab_link": true
    },
    "kernelspec": {
      "name": "python3",
      "display_name": "Python 3"
    },
    "language_info": {
      "name": "python"
    }
  },
  "cells": [
    {
      "cell_type": "markdown",
      "metadata": {
        "id": "view-in-github",
        "colab_type": "text"
      },
      "source": [
        "<a href=\"https://colab.research.google.com/github/SuzanTurner/Faculty-Development-Program-Day-2-/blob/main/FDP(Day%202).ipynb\" target=\"_parent\"><img src=\"https://colab.research.google.com/assets/colab-badge.svg\" alt=\"Open In Colab\"/></a>"
      ]
    },
    {
      "cell_type": "code",
      "source": [
        "()\n",
        "t = (30,68,90,56)\n",
        "print(t)\n"
      ],
      "metadata": {
        "colab": {
          "base_uri": "https://localhost:8080/"
        },
        "id": "kwsl6WB-pegW",
        "outputId": "d23b8bb5-6ed9-474e-9aa2-35d953d08116"
      },
      "execution_count": 1,
      "outputs": [
        {
          "output_type": "stream",
          "name": "stdout",
          "text": [
            "(30, 68, 90, 56)\n"
          ]
        }
      ]
    },
    {
      "cell_type": "code",
      "execution_count": 3,
      "metadata": {
        "id": "5pXkUMxqpMo0"
      },
      "outputs": [],
      "source": [
        "t1 = (45, 69, 't', 'pass')\n"
      ]
    },
    {
      "cell_type": "code",
      "source": [
        "t1"
      ],
      "metadata": {
        "colab": {
          "base_uri": "https://localhost:8080/"
        },
        "id": "wZH9NqS6p2Dm",
        "outputId": "b5ef59bd-074c-4adb-e635-1283925933f9"
      },
      "execution_count": 4,
      "outputs": [
        {
          "output_type": "execute_result",
          "data": {
            "text/plain": [
              "(45, 69, 't', 'pass')"
            ]
          },
          "metadata": {},
          "execution_count": 4
        }
      ]
    },
    {
      "cell_type": "code",
      "source": [
        "#accesing tuples:\n",
        "data1 = (1,2,3,4)\n",
        "data2 = ('x', 'y', 'z')\n",
        "#slicing:\n",
        "#data[start:stop:step]\n",
        "#data[start:]\n",
        "#data[:end]\n",
        "data1[1:3:1]"
      ],
      "metadata": {
        "colab": {
          "base_uri": "https://localhost:8080/"
        },
        "id": "gPD7cub3p6HQ",
        "outputId": "aa51d42c-47e0-424c-b23a-b9cc0c855679"
      },
      "execution_count": 5,
      "outputs": [
        {
          "output_type": "execute_result",
          "data": {
            "text/plain": [
              "(2, 3)"
            ]
          },
          "metadata": {},
          "execution_count": 5
        }
      ]
    },
    {
      "cell_type": "code",
      "source": [
        "data1[3:]"
      ],
      "metadata": {
        "colab": {
          "base_uri": "https://localhost:8080/"
        },
        "id": "2cncm-xoqfpQ",
        "outputId": "a088808c-9f36-4db8-fbee-e5ab234b2bd2"
      },
      "execution_count": 6,
      "outputs": [
        {
          "output_type": "execute_result",
          "data": {
            "text/plain": [
              "(4,)"
            ]
          },
          "metadata": {},
          "execution_count": 6
        }
      ]
    },
    {
      "cell_type": "code",
      "source": [
        "#tuple operations\n",
        "#adding, concatinatoin\n",
        "data1 = (1,2,3,4)\n",
        "data2 = ('x', 'y', 'z')\n",
        "data1 + data2"
      ],
      "metadata": {
        "colab": {
          "base_uri": "https://localhost:8080/"
        },
        "id": "cgqISo5Xqo6k",
        "outputId": "d32c2529-dbc0-4272-a36d-2fafeabac1e5"
      },
      "execution_count": 7,
      "outputs": [
        {
          "output_type": "execute_result",
          "data": {
            "text/plain": [
              "(1, 2, 3, 4, 'x', 'y', 'z')"
            ]
          },
          "metadata": {},
          "execution_count": 7
        }
      ]
    },
    {
      "cell_type": "code",
      "source": [
        "#replication\n",
        "data1 * 3\n"
      ],
      "metadata": {
        "colab": {
          "base_uri": "https://localhost:8080/"
        },
        "id": "g4C7hFnurMjh",
        "outputId": "2b1d2e61-ed0c-48b0-fec3-563ada73d346"
      },
      "execution_count": 8,
      "outputs": [
        {
          "output_type": "execute_result",
          "data": {
            "text/plain": [
              "(1, 2, 3, 4, 1, 2, 3, 4, 1, 2, 3, 4)"
            ]
          },
          "metadata": {},
          "execution_count": 8
        }
      ]
    },
    {
      "cell_type": "code",
      "source": [
        "#tuple is immutable\n"
      ],
      "metadata": {
        "id": "p0M0HBdSrRBc"
      },
      "execution_count": null,
      "outputs": []
    },
    {
      "cell_type": "code",
      "source": [
        "#deleting elements from the tuple\n",
        "del data1\n"
      ],
      "metadata": {
        "id": "gtx0x2m0rVBi"
      },
      "execution_count": 9,
      "outputs": []
    },
    {
      "cell_type": "code",
      "source": [
        "#functions\n",
        "min(data2)\n",
        "#since it is a string value, it returns the element in the first position"
      ],
      "metadata": {
        "colab": {
          "base_uri": "https://localhost:8080/",
          "height": 35
        },
        "id": "h3Qe-eYkrpYK",
        "outputId": "9c8c2d7b-9959-4d53-e564-f7dda9139315"
      },
      "execution_count": 10,
      "outputs": [
        {
          "output_type": "execute_result",
          "data": {
            "text/plain": [
              "'x'"
            ],
            "application/vnd.google.colaboratory.intrinsic+json": {
              "type": "string"
            }
          },
          "metadata": {},
          "execution_count": 10
        }
      ]
    },
    {
      "cell_type": "code",
      "source": [
        "data1 = (3, 5, 6, 8, 9 ,4)\n",
        "min(data1)"
      ],
      "metadata": {
        "colab": {
          "base_uri": "https://localhost:8080/"
        },
        "id": "1hg9oGvmrvf2",
        "outputId": "a66724b2-e8bf-4eb8-a920-cd1225455a5c"
      },
      "execution_count": 11,
      "outputs": [
        {
          "output_type": "execute_result",
          "data": {
            "text/plain": [
              "3"
            ]
          },
          "metadata": {},
          "execution_count": 11
        }
      ]
    },
    {
      "cell_type": "code",
      "source": [
        "max(data1)"
      ],
      "metadata": {
        "colab": {
          "base_uri": "https://localhost:8080/"
        },
        "id": "jZ0GpFyTr3GM",
        "outputId": "f9e6f26f-0b67-4783-ab1a-70c86b38bf92"
      },
      "execution_count": 12,
      "outputs": [
        {
          "output_type": "execute_result",
          "data": {
            "text/plain": [
              "9"
            ]
          },
          "metadata": {},
          "execution_count": 12
        }
      ]
    },
    {
      "cell_type": "code",
      "source": [
        "len(data1)"
      ],
      "metadata": {
        "colab": {
          "base_uri": "https://localhost:8080/"
        },
        "id": "wM2FjTrusDAs",
        "outputId": "ffacb651-2e52-47b5-d069-921cc60e2331"
      },
      "execution_count": 13,
      "outputs": [
        {
          "output_type": "execute_result",
          "data": {
            "text/plain": [
              "6"
            ]
          },
          "metadata": {},
          "execution_count": 13
        }
      ]
    },
    {
      "cell_type": "code",
      "source": [
        "\"yadh\" + \"yadh\"\n",
        "#concatination"
      ],
      "metadata": {
        "colab": {
          "base_uri": "https://localhost:8080/",
          "height": 35
        },
        "id": "VVPsa2x0sWmQ",
        "outputId": "1b8a8755-4bc1-4d14-fdc5-a20c11cd975a"
      },
      "execution_count": 14,
      "outputs": [
        {
          "output_type": "execute_result",
          "data": {
            "text/plain": [
              "'yadhyadh'"
            ],
            "application/vnd.google.colaboratory.intrinsic+json": {
              "type": "string"
            }
          },
          "metadata": {},
          "execution_count": 14
        }
      ]
    },
    {
      "cell_type": "code",
      "source": [
        "#dictionary: it has pairs of keys and values\n",
        "            #keys must be unique\n",
        "            #key and value sepearted by a colon"
      ],
      "metadata": {
        "id": "lxbt8-aWsFHz"
      },
      "execution_count": null,
      "outputs": []
    },
    {
      "cell_type": "code",
      "source": [
        "data = {100:\"x\", 101: \"y\", 102: \"z\"}\n",
        "print(data)"
      ],
      "metadata": {
        "colab": {
          "base_uri": "https://localhost:8080/"
        },
        "id": "y3jpulWMswA2",
        "outputId": "2406699f-28e8-47bc-e324-8f4bc19b95cf"
      },
      "execution_count": 15,
      "outputs": [
        {
          "output_type": "stream",
          "name": "stdout",
          "text": [
            "{100: 'x', 101: 'y', 102: 'z'}\n"
          ]
        }
      ]
    },
    {
      "cell_type": "code",
      "source": [
        "data [100]\n",
        "#displays data at the particular key"
      ],
      "metadata": {
        "colab": {
          "base_uri": "https://localhost:8080/",
          "height": 35
        },
        "id": "boEBPPo-tM96",
        "outputId": "19973032-e4d7-42d2-f707-526dd7756ea5"
      },
      "execution_count": 16,
      "outputs": [
        {
          "output_type": "execute_result",
          "data": {
            "text/plain": [
              "'x'"
            ],
            "application/vnd.google.colaboratory.intrinsic+json": {
              "type": "string"
            }
          },
          "metadata": {},
          "execution_count": 16
        }
      ]
    },
    {
      "cell_type": "code",
      "source": [
        "#dictionary is mutable, can be modified\n",
        "data"
      ],
      "metadata": {
        "colab": {
          "base_uri": "https://localhost:8080/"
        },
        "id": "8bmPqMpntozT",
        "outputId": "e030bc7d-3716-4bc3-9d96-5f75a582831c"
      },
      "execution_count": 17,
      "outputs": [
        {
          "output_type": "execute_result",
          "data": {
            "text/plain": [
              "{100: 'x', 101: 'y', 102: 'z'}"
            ]
          },
          "metadata": {},
          "execution_count": 17
        }
      ]
    },
    {
      "cell_type": "code",
      "source": [
        "data [\"103\"] = \"xx\"\n",
        "data"
      ],
      "metadata": {
        "colab": {
          "base_uri": "https://localhost:8080/"
        },
        "id": "jUxFQfvHt8jZ",
        "outputId": "e4c40264-adb0-4bda-d79d-e116cfe82626"
      },
      "execution_count": 20,
      "outputs": [
        {
          "output_type": "execute_result",
          "data": {
            "text/plain": [
              "{100: 'x', 101: 'y', 102: 'z', 'x': 'xx', '103': 'xx'}"
            ]
          },
          "metadata": {},
          "execution_count": 20
        }
      ]
    },
    {
      "cell_type": "code",
      "source": [
        "len(data)"
      ],
      "metadata": {
        "colab": {
          "base_uri": "https://localhost:8080/"
        },
        "id": "r8eW-KBJudw1",
        "outputId": "fec57971-e2a7-49d8-9894-8472020343b6"
      },
      "execution_count": 21,
      "outputs": [
        {
          "output_type": "execute_result",
          "data": {
            "text/plain": [
              "5"
            ]
          },
          "metadata": {},
          "execution_count": 21
        }
      ]
    },
    {
      "cell_type": "code",
      "source": [
        "#charts"
      ],
      "metadata": {
        "id": "ulGCICNFwFzk"
      },
      "execution_count": null,
      "outputs": []
    },
    {
      "cell_type": "code",
      "source": [
        "import matplotlib.pyplot as plt\n",
        "x = [500,600,700,650]\n",
        "y = [10,20,30,40]\n",
        "plt.plot(x,y)"
      ],
      "metadata": {
        "colab": {
          "base_uri": "https://localhost:8080/",
          "height": 447
        },
        "id": "2HJCA7WyvJlF",
        "outputId": "701f7dd5-e82a-4aba-f9e1-3b1f12e5361f"
      },
      "execution_count": 22,
      "outputs": [
        {
          "output_type": "execute_result",
          "data": {
            "text/plain": [
              "[<matplotlib.lines.Line2D at 0x7b2e5451b610>]"
            ]
          },
          "metadata": {},
          "execution_count": 22
        },
        {
          "output_type": "display_data",
          "data": {
            "text/plain": [
              "<Figure size 640x480 with 1 Axes>"
            ],
            "image/png": "[encoded data removed]"
          },
          "metadata": {}
        }
      ]
    },
    {
      "cell_type": "code",
      "source": [
        "from os import MFD_CLOEXEC\n",
        "markers:\n",
        "o - circle\n",
        "s - square\n",
        "d - diamond\n",
        "p - pentagon\n",
        "h - hexagon\n",
        ". -point\n",
        "* - star\n",
        "| - vline\n",
        "_ - hline\n",
        "marker color - mec\n",
        "facecolor - mfc\n",
        "ms - \" \""
      ],
      "metadata": {
        "id": "oWkfL6a1wdzE"
      },
      "execution_count": null,
      "outputs": []
    },
    {
      "cell_type": "code",
      "source": [
        "import matplotlib.pyplot as plt\n",
        "x = [500,600,700,650]\n",
        "y = [10,20,30,40]\n",
        "plt.plot(x,y, marker = 'o', mec = 'r', mfc = 'b', ms = '10')"
      ],
      "metadata": {
        "colab": {
          "base_uri": "https://localhost:8080/",
          "height": 447
        },
        "id": "bQ5jw9X7xVAc",
        "outputId": "ba20263a-02bc-4723-8e27-3e53b120b2fa"
      },
      "execution_count": 23,
      "outputs": [
        {
          "output_type": "execute_result",
          "data": {
            "text/plain": [
              "[<matplotlib.lines.Line2D at 0x7b2e54359de0>]"
            ]
          },
          "metadata": {},
          "execution_count": 23
        },
        {
          "output_type": "display_data",
          "data": {
            "text/plain": [
              "<Figure size 640x480 with 1 Axes>"
            ],
            "image/png": "[encoded data removed]"
          },
          "metadata": {}
        }
      ]
    },
    {
      "cell_type": "code",
      "source": [
        "import matplotlib.pyplot as plt\n",
        "x = [500,600,700,650]\n",
        "y = [10,20,30,40]\n",
        "plt.plot(x,y, marker = 'o', mec = 'r', mfc = 'b', ms = '10', ls = \"dotted\")"
      ],
      "metadata": {
        "colab": {
          "base_uri": "https://localhost:8080/",
          "height": 447
        },
        "id": "VkaVFQOExxxH",
        "outputId": "ce80e838-3980-4d99-88fe-1ff28344e552"
      },
      "execution_count": 24,
      "outputs": [
        {
          "output_type": "execute_result",
          "data": {
            "text/plain": [
              "[<matplotlib.lines.Line2D at 0x7b2e521e65c0>]"
            ]
          },
          "metadata": {},
          "execution_count": 24
        },
        {
          "output_type": "display_data",
          "data": {
            "text/plain": [
              "<Figure size 640x480 with 1 Axes>"
            ],
            "image/png": "[encoded data removed]"
          },
          "metadata": {}
        }
      ]
    },
    {
      "cell_type": "code",
      "source": [
        "import matplotlib.pyplot as plt\n",
        "x = [500,600,700,650]\n",
        "y = [10,20,30,40]\n",
        "plt.plot(x,y, marker = 'o', mec = 'r', mfc = 'b', ms = '10')\n",
        "plt.title(\"this is a line chart\")"
      ],
      "metadata": {
        "colab": {
          "base_uri": "https://localhost:8080/",
          "height": 469
        },
        "id": "kEiRrzYfysoU",
        "outputId": "3eb56f17-5f24-4145-954c-aa303da7c4d2"
      },
      "execution_count": 25,
      "outputs": [
        {
          "output_type": "execute_result",
          "data": {
            "text/plain": [
              "Text(0.5, 1.0, 'this is a line chart')"
            ]
          },
          "metadata": {},
          "execution_count": 25
        },
        {
          "output_type": "display_data",
          "data": {
            "text/plain": [
              "<Figure size 640x480 with 1 Axes>"
            ],
            "image/png": "[encoded data removed]"
          },
          "metadata": {}
        }
      ]
    },
    {
      "cell_type": "code",
      "source": [
        "f1 = (\"family\":\"arial\")"
      ],
      "metadata": {
        "id": "3QgJT7RizA63"
      },
      "execution_count": null,
      "outputs": []
    }
  ]
}